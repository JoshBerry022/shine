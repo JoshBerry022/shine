{
 "cells": [
  {
   "cell_type": "code",
   "execution_count": 16,
   "metadata": {},
   "outputs": [],
   "source": [
    "import os\n",
    "from skimage import io\n",
    "import cv2\n",
    "from matplotlib import image as img\n",
    "from PIL import Image\n",
    "import numpy as np"
   ]
  },
  {
   "cell_type": "code",
   "execution_count": 17,
   "metadata": {},
   "outputs": [],
   "source": [
    "pic_file = 'lego.png'\n",
    "#pic_file = 'indiaflag.jpg'\n",
    "\n",
    "#dont need to change these\n",
    "repo_path = os.path.dirname(os.getcwd())\n",
    "img_path = repo_path + '/img/'\n",
    "testfile = img_path + pic_file"
   ]
  },
  {
   "cell_type": "code",
   "execution_count": 18,
   "metadata": {},
   "outputs": [
    {
     "name": "stdout",
     "output_type": "stream",
     "text": [
      "COMMAND:  img_ski = io.imread(testfile)\n",
      "COMMAND:  img_cv0 = cv2.imread(testfile,0)\n",
      "COMMAND:  img_cv1 = cv2.imread(testfile,1)\n",
      "COMMAND:  img_mpl = img.imread(testfile)\n",
      "COMMAND:  img_pil = Image.open(testfile)\n"
     ]
    }
   ],
   "source": [
    "# lets just read in all of the files in their own unique ways\n",
    "\n",
    "list_commands = [\n",
    "    'img_ski = io.imread(testfile)',\n",
    "    'img_cv0 = cv2.imread(testfile,0)',\n",
    "    'img_cv1 = cv2.imread(testfile,1)',\n",
    "    'img_mpl = img.imread(testfile)',\n",
    "    'img_pil = Image.open(testfile)'\n",
    "]\n",
    "\n",
    "for c in list_commands:\n",
    "    try:\n",
    "        print('COMMAND: ', c)\n",
    "        exec(c)\n",
    "    except Exception as e:\n",
    "        print(e)\n",
    "        pass"
   ]
  },
  {
   "cell_type": "code",
   "execution_count": 19,
   "metadata": {},
   "outputs": [
    {
     "name": "stdout",
     "output_type": "stream",
     "text": [
      "img_ski:  (238, 363, 4)\n",
      "img_cv0:  (238, 363)\n",
      "img_cv1:  (238, 363, 3)\n",
      "img_mpl:  (238, 363, 4)\n",
      "img_pil:  (363, 238)\n"
     ]
    }
   ],
   "source": [
    "# FYI: this will check the 3rd argument\n",
    "# len(img_skimage[0][0])\n",
    "\n",
    "# now lets print the shapes (aka size)\n",
    "list_commands = [\n",
    "    \"print('img_ski: ', img_ski.shape)\",\n",
    "    \"print('img_cv0: ', img_cv0.shape)\",\n",
    "    \"print('img_cv1: ', img_cv1.shape)\",\n",
    "    \"print('img_mpl: ', img_mpl.shape)\",\n",
    "    \"print('img_pil: ', img_pil.size)\"\n",
    "]\n",
    "\n",
    "for c in list_commands:\n",
    "    try:\n",
    "        #print('COMMAND: ', c)\n",
    "        exec(c)\n",
    "    except Exception as e:\n",
    "        print(e)\n",
    "        pass"
   ]
  },
  {
   "cell_type": "code",
   "execution_count": 28,
   "metadata": {},
   "outputs": [
    {
     "name": "stdout",
     "output_type": "stream",
     "text": [
      "COMMAND:  img_ski_reshape = np.float32(img_ski.reshape(-1,3))\n",
      "COMMAND:  img_cv0_reshape = np.float32(img_cv0.reshape(-1,3))\n",
      "COMMAND:  img_cv1_reshape = np.float32(img_cv1.reshape(-1,3))\n",
      "COMMAND:  img_mpl_reshape = np.float32(img_mpl.reshape(-1,3))\n",
      "COMMAND:  img_pil_reshape = np.float32(img_pil.reshape(-1,3))\n",
      "  > FAIL:  'PngImageFile' object has no attribute 'reshape'\n",
      "\n",
      "------------------------\n",
      "\n",
      "img_ski:  (115192, 3)\n",
      "img_cv0:  (28798, 3)\n",
      "img_cv1:  (86394, 3)\n",
      "img_mpl:  (115192, 3)\n",
      "  > FAIL:  name 'img_pil_reshape' is not defined\n"
     ]
    }
   ],
   "source": [
    "# Now lets see if we can reshape them in a way openCV likes it:\n",
    "\n",
    "list_commands = [\n",
    "    \"img_ski_reshape = np.float32(img_ski.reshape(-1,3))\",\n",
    "    \"img_cv0_reshape = np.float32(img_cv0.reshape(-1,3))\",\n",
    "    \"img_cv1_reshape = np.float32(img_cv1.reshape(-1,3))\",\n",
    "    \"img_mpl_reshape = np.float32(img_mpl.reshape(-1,3))\",\n",
    "    \"img_pil_reshape = np.float32(img_pil.reshape(-1,3))\"\n",
    "]\n",
    "\n",
    "for c in list_commands:\n",
    "    try:\n",
    "        print('COMMAND: ', c)\n",
    "        exec(c)\n",
    "    except Exception as e:\n",
    "        print('  > FAIL: ', e)\n",
    "        pass\n",
    "\n",
    "print('\\n------------------------\\n')\n",
    "list_commands = [\n",
    "    \"print('img_ski: ', img_ski_reshape.shape)\",\n",
    "    \"print('img_cv0: ', img_cv0_reshape.shape)\",\n",
    "    \"print('img_cv1: ', img_cv1_reshape.shape)\",\n",
    "    \"print('img_mpl: ', img_mpl_reshape.shape)\",\n",
    "    \"print('img_pil: ', img_pil_reshape.size)\"\n",
    "]\n",
    "\n",
    "for c in list_commands:\n",
    "    try:\n",
    "        #print('COMMAND: ', c)\n",
    "        exec(c)\n",
    "    except Exception as e:\n",
    "        print('  > FAIL: ', e)\n",
    "        pass"
   ]
  },
  {
   "cell_type": "code",
   "execution_count": null,
   "metadata": {},
   "outputs": [],
   "source": []
  },
  {
   "cell_type": "code",
   "execution_count": 29,
   "metadata": {},
   "outputs": [
    {
     "data": {
      "text/plain": [
       "Array([[[179,  25,   0, 255],\n",
       "        [178,  24,   0, 255],\n",
       "        [188,  28,   0, 255],\n",
       "        ...,\n",
       "        [  0,  74, 179, 255],\n",
       "        [  0,  75, 179, 255],\n",
       "        [  0,  74, 179, 255]],\n",
       "\n",
       "       [[177,  25,   0, 255],\n",
       "        [177,  23,   0, 255],\n",
       "        [186,  27,   0, 255],\n",
       "        ...,\n",
       "        [  0,  74, 178, 255],\n",
       "        [  1,  74, 179, 255],\n",
       "        [  0,  74, 179, 255]],\n",
       "\n",
       "       [[176,  24,   1, 255],\n",
       "        [175,  23,   0, 255],\n",
       "        [184,  27,   0, 255],\n",
       "        ...,\n",
       "        [  0,  73, 180, 255],\n",
       "        [  0,  74, 180, 255],\n",
       "        [  0,  73, 178, 255]],\n",
       "\n",
       "       ...,\n",
       "\n",
       "       [[173,  24,   0, 255],\n",
       "        [169,  22,   0, 255],\n",
       "        [166,  22,   1, 255],\n",
       "        ...,\n",
       "        [214, 166,   3, 255],\n",
       "        [215, 167,   3, 255],\n",
       "        [214, 167,   0, 255]],\n",
       "\n",
       "       [[171,  22,   0, 255],\n",
       "        [169,  22,   0, 255],\n",
       "        [166,  21,   1, 255],\n",
       "        ...,\n",
       "        [213, 167,   2, 255],\n",
       "        [214, 167,   1, 255],\n",
       "        [215, 168,   0, 255]],\n",
       "\n",
       "       [[169,  22,   0, 255],\n",
       "        [167,  22,   0, 255],\n",
       "        [165,  22,   0, 255],\n",
       "        ...,\n",
       "        [213, 165,   2, 255],\n",
       "        [214, 164,   1, 255],\n",
       "        [214, 165,   0, 255]]], dtype=uint8)"
      ]
     },
     "execution_count": 29,
     "metadata": {},
     "output_type": "execute_result"
    }
   ],
   "source": [
    "img_ski"
   ]
  },
  {
   "cell_type": "code",
   "execution_count": 32,
   "metadata": {},
   "outputs": [],
   "source": [
    "img_mpl *= 255"
   ]
  },
  {
   "cell_type": "code",
   "execution_count": 33,
   "metadata": {},
   "outputs": [
    {
     "data": {
      "text/plain": [
       "array([[[179.,  25.,   0., 255.],\n",
       "        [178.,  24.,   0., 255.],\n",
       "        [188.,  28.,   0., 255.],\n",
       "        ...,\n",
       "        [  0.,  74., 179., 255.],\n",
       "        [  0.,  75., 179., 255.],\n",
       "        [  0.,  74., 179., 255.]],\n",
       "\n",
       "       [[177.,  25.,   0., 255.],\n",
       "        [177.,  23.,   0., 255.],\n",
       "        [186.,  27.,   0., 255.],\n",
       "        ...,\n",
       "        [  0.,  74., 178., 255.],\n",
       "        [  1.,  74., 179., 255.],\n",
       "        [  0.,  74., 179., 255.]],\n",
       "\n",
       "       [[176.,  24.,   1., 255.],\n",
       "        [175.,  23.,   0., 255.],\n",
       "        [184.,  27.,   0., 255.],\n",
       "        ...,\n",
       "        [  0.,  73., 180., 255.],\n",
       "        [  0.,  74., 180., 255.],\n",
       "        [  0.,  73., 178., 255.]],\n",
       "\n",
       "       ...,\n",
       "\n",
       "       [[173.,  24.,   0., 255.],\n",
       "        [169.,  22.,   0., 255.],\n",
       "        [166.,  22.,   1., 255.],\n",
       "        ...,\n",
       "        [214., 166.,   3., 255.],\n",
       "        [215., 167.,   3., 255.],\n",
       "        [214., 167.,   0., 255.]],\n",
       "\n",
       "       [[171.,  22.,   0., 255.],\n",
       "        [169.,  22.,   0., 255.],\n",
       "        [166.,  21.,   1., 255.],\n",
       "        ...,\n",
       "        [213., 167.,   2., 255.],\n",
       "        [214., 167.,   1., 255.],\n",
       "        [215., 168.,   0., 255.]],\n",
       "\n",
       "       [[169.,  22.,   0., 255.],\n",
       "        [167.,  22.,   0., 255.],\n",
       "        [165.,  22.,   0., 255.],\n",
       "        ...,\n",
       "        [213., 165.,   2., 255.],\n",
       "        [214., 164.,   1., 255.],\n",
       "        [214., 165.,   0., 255.]]], dtype=float32)"
      ]
     },
     "execution_count": 33,
     "metadata": {},
     "output_type": "execute_result"
    }
   ],
   "source": [
    "img_mpl"
   ]
  },
  {
   "cell_type": "code",
   "execution_count": 34,
   "metadata": {},
   "outputs": [
    {
     "data": {
      "text/plain": [
       "array([[[  0,  25, 179],\n",
       "        [  0,  24, 178],\n",
       "        [  0,  28, 188],\n",
       "        ...,\n",
       "        [179,  74,   0],\n",
       "        [179,  75,   0],\n",
       "        [179,  74,   0]],\n",
       "\n",
       "       [[  0,  25, 177],\n",
       "        [  0,  23, 177],\n",
       "        [  0,  27, 186],\n",
       "        ...,\n",
       "        [178,  74,   0],\n",
       "        [179,  74,   1],\n",
       "        [179,  74,   0]],\n",
       "\n",
       "       [[  1,  24, 176],\n",
       "        [  0,  23, 175],\n",
       "        [  0,  27, 184],\n",
       "        ...,\n",
       "        [180,  73,   0],\n",
       "        [180,  74,   0],\n",
       "        [178,  73,   0]],\n",
       "\n",
       "       ...,\n",
       "\n",
       "       [[  0,  24, 173],\n",
       "        [  0,  22, 169],\n",
       "        [  1,  22, 166],\n",
       "        ...,\n",
       "        [  3, 166, 214],\n",
       "        [  3, 167, 215],\n",
       "        [  0, 167, 214]],\n",
       "\n",
       "       [[  0,  22, 171],\n",
       "        [  0,  22, 169],\n",
       "        [  1,  21, 166],\n",
       "        ...,\n",
       "        [  2, 167, 213],\n",
       "        [  1, 167, 214],\n",
       "        [  0, 168, 215]],\n",
       "\n",
       "       [[  0,  22, 169],\n",
       "        [  0,  22, 167],\n",
       "        [  0,  22, 165],\n",
       "        ...,\n",
       "        [  2, 165, 213],\n",
       "        [  1, 164, 214],\n",
       "        [  0, 165, 214]]], dtype=uint8)"
      ]
     },
     "execution_count": 34,
     "metadata": {},
     "output_type": "execute_result"
    }
   ],
   "source": [
    "img_cv1"
   ]
  },
  {
   "cell_type": "code",
   "execution_count": 35,
   "metadata": {},
   "outputs": [
    {
     "data": {
      "text/plain": [
       "array([[105, 103, 110, ...,  85,  85,  85],\n",
       "       [103, 103, 109, ...,  85,  85,  85],\n",
       "       [102, 102, 107, ...,  85,  87,  85],\n",
       "       ...,\n",
       "       [101,  98,  96, ..., 174, 175, 174],\n",
       "       [ 99,  98,  96, ..., 174, 174, 175],\n",
       "       [ 98,  96,  96, ..., 173, 173, 173]], dtype=uint8)"
      ]
     },
     "execution_count": 35,
     "metadata": {},
     "output_type": "execute_result"
    }
   ],
   "source": [
    "img_cv0  #is this greyscale????!??!!"
   ]
  },
  {
   "cell_type": "code",
   "execution_count": null,
   "metadata": {},
   "outputs": [],
   "source": []
  },
  {
   "cell_type": "code",
   "execution_count": null,
   "metadata": {},
   "outputs": [],
   "source": []
  },
  {
   "cell_type": "code",
   "execution_count": null,
   "metadata": {},
   "outputs": [],
   "source": []
  },
  {
   "cell_type": "code",
   "execution_count": null,
   "metadata": {},
   "outputs": [],
   "source": []
  },
  {
   "cell_type": "code",
   "execution_count": null,
   "metadata": {},
   "outputs": [],
   "source": []
  }
 ],
 "metadata": {
  "kernelspec": {
   "display_name": "Python 3",
   "language": "python",
   "name": "python3"
  },
  "language_info": {
   "codemirror_mode": {
    "name": "ipython",
    "version": 3
   },
   "file_extension": ".py",
   "mimetype": "text/x-python",
   "name": "python",
   "nbconvert_exporter": "python",
   "pygments_lexer": "ipython3",
   "version": "3.6.8"
  }
 },
 "nbformat": 4,
 "nbformat_minor": 2
}
