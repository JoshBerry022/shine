{
 "cells": [
  {
   "cell_type": "code",
   "execution_count": 48,
   "metadata": {},
   "outputs": [],
   "source": [
    "# This is only for display purposes to monitor processing easier\n",
    "import time, sys\n",
    "from IPython.display import clear_output\n",
    "\n",
    "def update_progress(progress):\n",
    "    bar_length = 20\n",
    "    if isinstance(progress, int):\n",
    "        progress = float(progress)\n",
    "    if not isinstance(progress, float):\n",
    "        progress = 0\n",
    "    if progress < 0:\n",
    "        progress = 0\n",
    "    if progress >= 1:\n",
    "        progress = 1\n",
    "\n",
    "    block = int(round(bar_length * progress))\n",
    "\n",
    "    clear_output(wait = True)\n",
    "    text = \"Progress: [{0}] {1:.1f}%\".format( \"#\" * block + \"-\" * (bar_length - block), progress * 100)\n",
    "    print(text)"
   ]
  },
  {
   "cell_type": "markdown",
   "metadata": {},
   "source": [
    "### This begins the video pre-processing"
   ]
  },
  {
   "cell_type": "code",
   "execution_count": 92,
   "metadata": {},
   "outputs": [
    {
     "name": "stdout",
     "output_type": "stream",
     "text": [
      "TESTFILE: /Users/jberry003/Documents/Dev/Projects/shine/vid/starwars.mp4\n"
     ]
    }
   ],
   "source": [
    "import os\n",
    "\n",
    "# change this\n",
    "image_instead_of_video = False\n",
    "\n",
    "vid_file = 'starwars.mp4'\n",
    "img_file = 'lego.png'\n",
    "\n",
    "unique_colors = 32\n",
    "\n",
    "\n",
    "#dont need to change these\n",
    "repo_path = os.path.dirname(os.getcwd())\n",
    "vid_path = '/vid/'\n",
    "img_path = '/img/'\n",
    "dat_path = '/data/'\n",
    "\n",
    "if image_instead_of_video == True:\n",
    "    testfile = repo_path + img_path + img_file\n",
    "else:\n",
    "    testfile = repo_path + vid_path + vid_file\n",
    "\n",
    "print(\"TESTFILE: \" + testfile)\n"
   ]
  },
  {
   "cell_type": "code",
   "execution_count": 50,
   "metadata": {},
   "outputs": [],
   "source": [
    "def round_colors(m, diff_colors):\n",
    "    m = np.float32(m)\n",
    "    criteria = (cv2.TERM_CRITERIA_EPS + cv2.TERM_CRITERIA_MAX_ITER, 500, 1)\n",
    "    ret, label, center = cv2.kmeans(m, diff_colors, None, criteria, 30, cv2.KMEANS_PP_CENTERS)\n",
    "    center = np.uint8(center)\n",
    "    return center[label.flatten()]"
   ]
  },
  {
   "cell_type": "code",
   "execution_count": 51,
   "metadata": {},
   "outputs": [],
   "source": [
    "import cv2\n",
    "import numpy as np\n",
    "\n",
    "def extract_dominant(pic_in, clusters):\n",
    "    \n",
    "    # normalize array to 0-1 instead of 0-255\n",
    "    pic_norm = np.array(pic_in).astype('float32')/255\n",
    "    \n",
    "    # convert to LAB\n",
    "    pic_lab = cv2.cvtColor(pic_norm, cv2.COLOR_BGR2LAB)\n",
    "    \n",
    "    # reshape - make it long and 2D\n",
    "    pic_reshape = np.float32(pic_lab.reshape(-1,3))\n",
    "    \n",
    "    # cluster\n",
    "    criteria = (cv2.TERM_CRITERIA_EPS + cv2.TERM_CRITERIA_MAX_ITER, 5000, 5)\n",
    "    flags = cv2.KMEANS_PP_CENTERS\n",
    "\n",
    "    _, labels, palette = cv2.kmeans(pic_reshape, clusters, None, criteria, 30, flags)\n",
    "    _, counts = np.unique(labels, return_counts=True)\n",
    "\n",
    "    # most dominant cluster\n",
    "    biggest_cluster = palette[np.argmax(counts)]\n",
    "    \n",
    "    # reshape to 3 channels\n",
    "    biggest_cluster = np.float32(biggest_cluster.reshape(1,1,3))\n",
    "\n",
    "    # convert back to BGR\n",
    "    biggest_cluster = cv2.cvtColor(biggest_cluster, cv2.COLOR_LAB2BGR)\n",
    "    \n",
    "    # de-normalize back to bits\n",
    "    biggest_cluster *= [255,255,255]\n",
    "    #print('BIGGEST: ', biggest_cluster[0][0])\n",
    "    return np.rint(biggest_cluster[0][0])"
   ]
  },
  {
   "cell_type": "code",
   "execution_count": 56,
   "metadata": {},
   "outputs": [],
   "source": [
    "import datetime\n",
    "\n",
    "def parse_to_array(vid, n):\n",
    "    \n",
    "    k_per_frame = 3\n",
    "    \n",
    "    update_progress(0)\n",
    "    \n",
    "    cap = cv2.VideoCapture(vid)\n",
    "    fps = cap.get(cv2.CAP_PROP_FPS)\n",
    "    tot = int(cap.get(cv2.CAP_PROP_FRAME_COUNT))\n",
    "    f = 0\n",
    "    result = []\n",
    "    times = []\n",
    "    while(True):\n",
    "        grabbed, frame = cap.read()\n",
    "        if not grabbed:\n",
    "            break\n",
    "        f+=1\n",
    "        sec = float(f)/fps\n",
    "        if (f % n == 0 and f > -1):\n",
    "            s = datetime.datetime.now()\n",
    "            result.append(extract_dominant(frame, k_per_frame)[:3])\n",
    "            times.append(sec)\n",
    "            e = datetime.datetime.now()\n",
    "            t = e - s\n",
    "            #print(str(t.total_seconds() * 1000))\n",
    "            update_progress(f / tot)\n",
    "    cap.release()\n",
    "    update_progress(1)\n",
    "    return result, times"
   ]
  },
  {
   "cell_type": "code",
   "execution_count": null,
   "metadata": {},
   "outputs": [],
   "source": []
  },
  {
   "cell_type": "code",
   "execution_count": 88,
   "metadata": {},
   "outputs": [
    {
     "name": "stdout",
     "output_type": "stream",
     "text": [
      "Progress: [####################] 100.0%\n"
     ]
    }
   ],
   "source": [
    "# take video file and take every nth frame, grabbing dominant color from each\n",
    "training = parse_to_array(testfile, 2)"
   ]
  },
  {
   "cell_type": "code",
   "execution_count": 89,
   "metadata": {},
   "outputs": [],
   "source": [
    "result = round_colors(training[0], unique_colors)"
   ]
  },
  {
   "cell_type": "code",
   "execution_count": 90,
   "metadata": {},
   "outputs": [],
   "source": [
    "import pandas as pd\n",
    "df = pd.DataFrame({'t':np.asarray(training[1]),'b':result[:,0],'g':result[:,1],'r':result[:,2]})"
   ]
  },
  {
   "cell_type": "code",
   "execution_count": 91,
   "metadata": {},
   "outputs": [
    {
     "data": {
      "text/html": [
       "<div>\n",
       "<style scoped>\n",
       "    .dataframe tbody tr th:only-of-type {\n",
       "        vertical-align: middle;\n",
       "    }\n",
       "\n",
       "    .dataframe tbody tr th {\n",
       "        vertical-align: top;\n",
       "    }\n",
       "\n",
       "    .dataframe thead th {\n",
       "        text-align: right;\n",
       "    }\n",
       "</style>\n",
       "<table border=\"1\" class=\"dataframe\">\n",
       "  <thead>\n",
       "    <tr style=\"text-align: right;\">\n",
       "      <th></th>\n",
       "      <th>t</th>\n",
       "      <th>b</th>\n",
       "      <th>g</th>\n",
       "      <th>r</th>\n",
       "      <th>helper</th>\n",
       "      <th>counter</th>\n",
       "    </tr>\n",
       "  </thead>\n",
       "  <tbody>\n",
       "    <tr>\n",
       "      <th>0</th>\n",
       "      <td>0.083417</td>\n",
       "      <td>0</td>\n",
       "      <td>0</td>\n",
       "      <td>0</td>\n",
       "      <td>0,0,0</td>\n",
       "      <td>1</td>\n",
       "    </tr>\n",
       "    <tr>\n",
       "      <th>1</th>\n",
       "      <td>0.166833</td>\n",
       "      <td>0</td>\n",
       "      <td>0</td>\n",
       "      <td>0</td>\n",
       "      <td>0,0,0</td>\n",
       "      <td>2</td>\n",
       "    </tr>\n",
       "    <tr>\n",
       "      <th>2</th>\n",
       "      <td>0.250250</td>\n",
       "      <td>0</td>\n",
       "      <td>0</td>\n",
       "      <td>0</td>\n",
       "      <td>0,0,0</td>\n",
       "      <td>3</td>\n",
       "    </tr>\n",
       "    <tr>\n",
       "      <th>3</th>\n",
       "      <td>0.333667</td>\n",
       "      <td>0</td>\n",
       "      <td>0</td>\n",
       "      <td>0</td>\n",
       "      <td>0,0,0</td>\n",
       "      <td>4</td>\n",
       "    </tr>\n",
       "    <tr>\n",
       "      <th>4</th>\n",
       "      <td>0.417083</td>\n",
       "      <td>0</td>\n",
       "      <td>0</td>\n",
       "      <td>0</td>\n",
       "      <td>0,0,0</td>\n",
       "      <td>5</td>\n",
       "    </tr>\n",
       "  </tbody>\n",
       "</table>\n",
       "</div>"
      ],
      "text/plain": [
       "          t  b  g  r helper  counter\n",
       "0  0.083417  0  0  0  0,0,0        1\n",
       "1  0.166833  0  0  0  0,0,0        2\n",
       "2  0.250250  0  0  0  0,0,0        3\n",
       "3  0.333667  0  0  0  0,0,0        4\n",
       "4  0.417083  0  0  0  0,0,0        5"
      ]
     },
     "execution_count": 91,
     "metadata": {},
     "output_type": "execute_result"
    }
   ],
   "source": [
    "df['helper'] = df['r'].astype(str) + \",\" + df['g'].astype(str) + \",\" + df['b'].astype(str)\n",
    "df['counter'] = df.groupby((df['helper'] != df['helper'].shift(1)).cumsum()).cumcount()+1\n",
    "df.head(5)"
   ]
  },
  {
   "cell_type": "code",
   "execution_count": null,
   "metadata": {},
   "outputs": [],
   "source": []
  },
  {
   "cell_type": "code",
   "execution_count": null,
   "metadata": {},
   "outputs": [],
   "source": []
  },
  {
   "cell_type": "code",
   "execution_count": null,
   "metadata": {},
   "outputs": [],
   "source": []
  },
  {
   "cell_type": "markdown",
   "metadata": {},
   "source": [
    "### This begins the Hue interaction - play video separately"
   ]
  },
  {
   "cell_type": "code",
   "execution_count": 93,
   "metadata": {},
   "outputs": [],
   "source": [
    "# fyi the debug link is here: https://192.168.1.9/debug/clip.html\n",
    "hue_ip = '192.168.1.9'\n",
    "hue_user = '082Gdixhk1IWMX78CpodeFxBWSLbeEmO7PjpFFKy'"
   ]
  },
  {
   "cell_type": "code",
   "execution_count": 94,
   "metadata": {},
   "outputs": [],
   "source": [
    "# Connect to the bridge with a particular username\n",
    "from qhue import Bridge\n",
    "bri = Bridge(hue_ip, hue_user)\n",
    "lights = bri.lights "
   ]
  },
  {
   "cell_type": "code",
   "execution_count": 113,
   "metadata": {},
   "outputs": [],
   "source": [
    "from rgbxy import Converter\n",
    "from rgbxy import GamutC # or GamutA, GamutB, GamutC\n",
    "\n",
    "converter = Converter(GamutC)\n",
    "\n",
    "def change_color(r,g,b):\n",
    "    if r == 0 and g == 0 and b == 0:\n",
    "        r = 1\n",
    "        b = 1\n",
    "        g = 1\n",
    "    bri.lights[7].state(on=True, xy=converter.rgb_to_xy(r,g,b))\n",
    "    \n",
    "def light_off():\n",
    "    bri.lights[7].state(on=False)"
   ]
  },
  {
   "cell_type": "code",
   "execution_count": 112,
   "metadata": {},
   "outputs": [],
   "source": [
    "#change_color(1,1,1)\n",
    "#light_off()"
   ]
  },
  {
   "cell_type": "code",
   "execution_count": 115,
   "metadata": {},
   "outputs": [
    {
     "name": "stdout",
     "output_type": "stream",
     "text": [
      "     in 5,...\n",
      "GO!\n",
      "CHANGED!  (189,153,102)\n",
      "CHANGED!  (129,99,66)\n",
      "CHANGED!  (115,82,54)\n",
      "CHANGED!  (173,139,94)\n",
      "CHANGED!  (182,144,95)\n",
      "CHANGED!  (173,139,94)\n",
      "CHANGED!  (182,144,95)\n",
      "CHANGED!  (115,82,54)\n",
      "CHANGED!  (182,144,95)\n",
      "CHANGED!  (115,82,54)\n",
      "CHANGED!  (210,212,172)\n",
      "CHANGED!  (173,172,139)\n",
      "CHANGED!  (164,128,83)\n",
      "CHANGED!  (173,172,139)\n",
      "CHANGED!  (164,128,83)\n",
      "CHANGED!  (173,172,139)\n",
      "CHANGED!  (164,128,83)\n",
      "CHANGED!  (173,172,139)\n",
      "CHANGED!  (164,128,83)\n",
      "CHANGED!  (173,139,94)\n",
      "CHANGED!  (164,128,83)\n",
      "CHANGED!  (182,144,95)\n",
      "CHANGED!  (0,0,0)\n",
      "CHANGED!  (11,13,13)\n",
      "CHANGED!  (30,24,21)\n",
      "CHANGED!  (47,38,27)\n",
      "CHANGED!  (62,59,45)\n",
      "CHANGED!  (85,66,44)\n",
      "CHANGED!  (115,82,54)\n",
      "CHANGED!  (129,99,66)\n",
      "CHANGED!  (164,128,83)\n",
      "CHANGED!  (173,139,94)\n",
      "CHANGED!  (182,144,95)\n",
      "CHANGED!  (189,153,102)\n",
      "CHANGED!  (209,173,112)\n",
      "CHANGED!  (199,160,104)\n",
      "CHANGED!  (209,173,112)\n",
      "CHANGED!  (199,160,104)\n",
      "CHANGED!  (209,173,112)\n",
      "CHANGED!  (199,160,104)\n",
      "CHANGED!  (189,153,102)\n",
      "CHANGED!  (182,144,95)\n",
      "CHANGED!  (173,139,94)\n",
      "CHANGED!  (164,128,83)\n",
      "CHANGED!  (173,139,94)\n",
      "CHANGED!  (164,128,83)\n",
      "CHANGED!  (129,99,66)\n",
      "CHANGED!  (164,128,83)\n",
      "CHANGED!  (129,99,66)\n",
      "CHANGED!  (164,128,83)\n",
      "CHANGED!  (173,172,139)\n",
      "CHANGED!  (206,223,190)\n",
      "CHANGED!  (173,139,94)\n",
      "CHANGED!  (11,13,13)\n",
      "CHANGED!  (182,144,95)\n",
      "CHANGED!  (189,153,102)\n",
      "CHANGED!  (182,144,95)\n",
      "CHANGED!  (189,153,102)\n",
      "CHANGED!  (182,144,95)\n",
      "CHANGED!  (173,139,94)\n",
      "CHANGED!  (210,212,172)\n",
      "CHANGED!  (173,172,139)\n",
      "CHANGED!  (210,212,172)\n",
      "CHANGED!  (235,234,185)\n",
      "CHANGED!  (62,59,45)\n",
      "CHANGED!  (206,223,190)\n",
      "CHANGED!  (156,199,180)\n",
      "CHANGED!  (123,153,138)\n",
      "CHANGED!  (85,104,94)\n",
      "CHANGED!  (62,59,45)\n",
      "CHANGED!  (30,24,21)\n",
      "CHANGED!  (0,0,0)\n",
      "CHANGED!  (11,13,13)\n",
      "CHANGED!  (13,26,40)\n",
      "CHANGED!  (9,43,60)\n",
      "CHANGED!  (13,26,40)\n",
      "CHANGED!  (11,13,13)\n",
      "CHANGED!  (13,26,40)\n",
      "CHANGED!  (9,43,60)\n",
      "CHANGED!  (13,26,40)\n",
      "CHANGED!  (9,43,60)\n",
      "CHANGED!  (11,13,13)\n",
      "CHANGED!  (7,45,95)\n",
      "CHANGED!  (11,13,13)\n",
      "CHANGED!  (9,43,60)\n",
      "CHANGED!  (13,26,40)\n",
      "CHANGED!  (11,13,13)\n",
      "CHANGED!  (0,0,0)\n",
      "CHANGED!  (89,23,25)\n",
      "CHANGED!  (106,31,31)\n",
      "CHANGED!  (30,24,21)\n",
      "CHANGED!  (106,31,31)\n",
      "CHANGED!  (56,17,20)\n",
      "CHANGED!  (106,31,31)\n",
      "CHANGED!  (56,17,20)\n",
      "CHANGED!  (89,23,25)\n",
      "CHANGED!  (106,31,31)\n",
      "CHANGED!  (56,17,20)\n",
      "CHANGED!  (106,31,31)\n",
      "CHANGED!  (30,24,21)\n",
      "CHANGED!  (56,17,20)\n",
      "CHANGED!  (30,24,21)\n",
      "CHANGED!  (11,13,13)\n",
      "CHANGED!  (0,0,0)\n",
      "CHANGED!  (11,13,13)\n",
      "CHANGED!  (30,24,21)\n",
      "CHANGED!  (85,66,44)\n",
      "CHANGED!  (115,82,54)\n",
      "CHANGED!  (47,38,27)\n",
      "CHANGED!  (11,13,13)\n",
      "CHANGED!  (0,0,0)\n",
      "CHANGED!  (13,26,40)\n",
      "CHANGED!  (7,45,95)\n",
      "CHANGED!  (69,195,208)\n",
      "CHANGED!  (11,67,132)\n",
      "CHANGED!  (13,26,40)\n",
      "CHANGED!  (9,43,60)\n",
      "CHANGED!  (7,45,95)\n",
      "CHANGED!  (13,26,40)\n",
      "CHANGED!  (7,45,95)\n",
      "CHANGED!  (11,67,132)\n",
      "CHANGED!  (7,45,95)\n",
      "CHANGED!  (11,67,132)\n",
      "CHANGED!  (7,45,95)\n",
      "CHANGED!  (11,67,132)\n",
      "CHANGED!  (7,45,95)\n",
      "CHANGED!  (11,67,132)\n",
      "CHANGED!  (9,43,60)\n",
      "CHANGED!  (13,26,40)\n",
      "CHANGED!  (164,213,194)\n",
      "CHANGED!  (208,241,217)\n",
      "CHANGED!  (0,0,0)\n",
      "CHANGED!  (182,144,95)\n",
      "CHANGED!  (173,139,94)\n",
      "CHANGED!  (164,128,83)\n",
      "CHANGED!  (189,153,102)\n",
      "CHANGED!  (164,128,83)\n",
      "CHANGED!  (209,173,112)\n",
      "CHANGED!  (164,128,83)\n",
      "CHANGED!  (62,59,45)\n",
      "CHANGED!  (164,128,83)\n",
      "CHANGED!  (129,99,66)\n",
      "CHANGED!  (85,66,44)\n",
      "CHANGED!  (62,59,45)\n",
      "CHANGED!  (208,241,217)\n",
      "CHANGED!  (209,173,112)\n",
      "CHANGED!  (164,128,83)\n",
      "CHANGED!  (30,24,21)\n",
      "CHANGED!  (210,212,172)\n",
      "CHANGED!  (164,128,83)\n",
      "CHANGED!  (129,99,66)\n",
      "CHANGED!  (115,82,54)\n",
      "CHANGED!  (85,66,44)\n",
      "CHANGED!  (11,13,13)\n",
      "CHANGED!  (30,24,21)\n",
      "CHANGED!  (115,82,54)\n",
      "CHANGED!  (129,99,66)\n",
      "CHANGED!  (47,38,27)\n",
      "CHANGED!  (129,99,66)\n",
      "CHANGED!  (115,82,54)\n",
      "CHANGED!  (47,38,27)\n",
      "CHANGED!  (30,24,21)\n",
      "CHANGED!  (11,13,13)\n",
      "CHANGED!  (0,0,0)\n",
      "CHANGED!  (11,13,13)\n",
      "CHANGED!  (63,77,71)\n",
      "CHANGED!  (85,104,94)\n",
      "CHANGED!  (123,153,138)\n",
      "CHANGED!  (156,199,180)\n",
      "CHANGED!  (85,104,94)\n",
      "CHANGED!  (63,77,71)\n",
      "CHANGED!  (62,59,45)\n",
      "CHANGED!  (85,104,94)\n",
      "CHANGED!  (62,59,45)\n",
      "CHANGED!  (85,104,94)\n",
      "CHANGED!  (62,59,45)\n",
      "CHANGED!  (85,104,94)\n",
      "CHANGED!  (62,59,45)\n",
      "CHANGED!  (85,104,94)\n",
      "CHANGED!  (156,199,180)\n",
      "CHANGED!  (63,77,71)\n",
      "CHANGED!  (62,59,45)\n",
      "CHANGED!  (63,77,71)\n",
      "CHANGED!  (164,213,194)\n",
      "CHANGED!  (0,0,0)\n"
     ]
    }
   ],
   "source": [
    "# loop through dataframe and show colors\n",
    "import time\n",
    "import datetime\n",
    "\n",
    "light_off()\n",
    "\n",
    "print(\"     in 5,...\")\n",
    "time.sleep(5)\n",
    "print(\"GO!\")\n",
    "time.sleep(1)\n",
    "\n",
    "i = 1\n",
    "diff = 0\n",
    "\n",
    "start = datetime.datetime.now()\n",
    "\n",
    "while diff < df['t'].max():\n",
    "\n",
    "    diff = (datetime.datetime.now() - start).total_seconds()\n",
    "    row = df.iloc[(df['t'] - diff).abs().argsort()[:1]]\n",
    "    r = row[['r']].values[0][0]\n",
    "    g = row[['g']].values[0][0]\n",
    "    b = row[['b']].values[0][0]\n",
    "    \n",
    "    if i == 1:\n",
    "        newcolor = (r,g,b)\n",
    "        oldcolor = newcolor\n",
    "        change_color(r,g,b)\n",
    "    else:\n",
    "        oldcolor = newcolor\n",
    "        newcolor = (r,g,b)\n",
    "    \n",
    "    if oldcolor != newcolor:\n",
    "        print(\"CHANGED!  (\" + str(r) + \",\" + str(g) + \",\" + str(b) + \")\")\n",
    "        change_color(r,g,b)\n",
    "        #time.sleep(1)\n",
    "        \n",
    "    i+=1\n",
    "    \n",
    "\n",
    "light_off()"
   ]
  },
  {
   "cell_type": "code",
   "execution_count": 77,
   "metadata": {},
   "outputs": [
    {
     "data": {
      "text/plain": [
       "[{'success': {'/lights/6/state/on': True}},\n",
       " {'success': {'/lights/6/state/xy': [0.3227, 0.329]}}]"
      ]
     },
     "execution_count": 77,
     "metadata": {},
     "output_type": "execute_result"
    }
   ],
   "source": [
    "bri.lights[6].state(on=True, xy=converter.rgb_to_xy(1,1,1))"
   ]
  },
  {
   "cell_type": "code",
   "execution_count": null,
   "metadata": {},
   "outputs": [],
   "source": []
  },
  {
   "cell_type": "code",
   "execution_count": 70,
   "metadata": {},
   "outputs": [
    {
     "data": {
      "text/plain": [
       "(0.32272672086556803, 0.32902290955907926)"
      ]
     },
     "execution_count": 70,
     "metadata": {},
     "output_type": "execute_result"
    }
   ],
   "source": []
  },
  {
   "cell_type": "code",
   "execution_count": null,
   "metadata": {},
   "outputs": [],
   "source": []
  },
  {
   "cell_type": "code",
   "execution_count": 116,
   "metadata": {},
   "outputs": [],
   "source": [
    "df.to_csv(repo_path + dat_path + 'starwars.csv', index=False, header=True)"
   ]
  },
  {
   "cell_type": "code",
   "execution_count": null,
   "metadata": {},
   "outputs": [],
   "source": []
  },
  {
   "cell_type": "code",
   "execution_count": null,
   "metadata": {},
   "outputs": [],
   "source": []
  },
  {
   "cell_type": "code",
   "execution_count": null,
   "metadata": {},
   "outputs": [],
   "source": []
  },
  {
   "cell_type": "code",
   "execution_count": null,
   "metadata": {},
   "outputs": [],
   "source": []
  },
  {
   "cell_type": "code",
   "execution_count": null,
   "metadata": {},
   "outputs": [],
   "source": []
  },
  {
   "cell_type": "code",
   "execution_count": null,
   "metadata": {},
   "outputs": [],
   "source": []
  },
  {
   "cell_type": "code",
   "execution_count": null,
   "metadata": {},
   "outputs": [],
   "source": []
  },
  {
   "cell_type": "code",
   "execution_count": null,
   "metadata": {},
   "outputs": [],
   "source": []
  },
  {
   "cell_type": "code",
   "execution_count": null,
   "metadata": {},
   "outputs": [],
   "source": []
  },
  {
   "cell_type": "code",
   "execution_count": null,
   "metadata": {},
   "outputs": [],
   "source": []
  }
 ],
 "metadata": {
  "kernelspec": {
   "display_name": "Python 3",
   "language": "python",
   "name": "python3"
  },
  "language_info": {
   "codemirror_mode": {
    "name": "ipython",
    "version": 3
   },
   "file_extension": ".py",
   "mimetype": "text/x-python",
   "name": "python",
   "nbconvert_exporter": "python",
   "pygments_lexer": "ipython3",
   "version": "3.6.8"
  }
 },
 "nbformat": 4,
 "nbformat_minor": 2
}
