{
 "cells": [
  {
   "cell_type": "code",
   "execution_count": 13,
   "metadata": {},
   "outputs": [],
   "source": [
    "# This is only for display purposes to monitor processing easier\n",
    "import time, sys\n",
    "from IPython.display import clear_output\n",
    "\n",
    "def update_progress(progress):\n",
    "    bar_length = 20\n",
    "    if isinstance(progress, int):\n",
    "        progress = float(progress)\n",
    "    if not isinstance(progress, float):\n",
    "        progress = 0\n",
    "    if progress < 0:\n",
    "        progress = 0\n",
    "    if progress >= 1:\n",
    "        progress = 1\n",
    "\n",
    "    block = int(round(bar_length * progress))\n",
    "\n",
    "    clear_output(wait = True)\n",
    "    text = \"Progress: [{0}] {1:.1f}%\".format( \"#\" * block + \"-\" * (bar_length - block), progress * 100)\n",
    "    print(text)"
   ]
  },
  {
   "cell_type": "markdown",
   "metadata": {},
   "source": [
    "### This begins the video pre-processing"
   ]
  },
  {
   "cell_type": "code",
   "execution_count": 17,
   "metadata": {},
   "outputs": [
    {
     "name": "stdout",
     "output_type": "stream",
     "text": [
      "TESTFILE: /Users/jberry003/Documents/Dev/Projects/shine/vid/sample.mp4\n"
     ]
    }
   ],
   "source": [
    "import os\n",
    "\n",
    "# change this\n",
    "image_instead_of_video = False\n",
    "\n",
    "vid_file = 'sample.mp4'\n",
    "img_file = 'lego.png'\n",
    "\n",
    "unique_colors = 32\n",
    "\n",
    "\n",
    "#dont need to change these\n",
    "repo_path = os.path.dirname(os.getcwd())\n",
    "vid_path = '/vid/'\n",
    "img_path = '/img/'\n",
    "\n",
    "if image_instead_of_video == True:\n",
    "    testfile = repo_path + img_path + img_file\n",
    "else:\n",
    "    testfile = repo_path + vid_path + vid_file\n",
    "\n",
    "print(\"TESTFILE: \" + testfile)\n",
    "\n",
    "# fyi the debug link is here: https://192.168.1.9/debug/clip.html\n",
    "hue_ip = '192.168.1.9'\n",
    "hue_user = '082Gdixhk1IWMX78CpodeFxBWSLbeEmO7PjpFFKy'\n"
   ]
  },
  {
   "cell_type": "code",
   "execution_count": 18,
   "metadata": {},
   "outputs": [],
   "source": [
    "def round_colors(m, diff_colors):\n",
    "    m = np.float32(m)\n",
    "    criteria = (cv2.TERM_CRITERIA_EPS + cv2.TERM_CRITERIA_MAX_ITER, 500, 1)\n",
    "    ret, label, center = cv2.kmeans(m, diff_colors, None, criteria, 30, cv2.KMEANS_PP_CENTERS)\n",
    "    center = np.uint8(center)\n",
    "    return center[label.flatten()]"
   ]
  },
  {
   "cell_type": "code",
   "execution_count": 19,
   "metadata": {},
   "outputs": [],
   "source": [
    "import cv2\n",
    "import numpy as np\n",
    "\n",
    "def extract_dominant(pic_in, clusters):\n",
    "    \n",
    "    # normalize array to 0-1 instead of 0-255\n",
    "    pic_norm = np.array(pic_in).astype('float32')/255\n",
    "    \n",
    "    # convert to LAB\n",
    "    pic_lab = cv2.cvtColor(pic_norm, cv2.COLOR_BGR2LAB)\n",
    "    \n",
    "    # reshape - make it long and 2D\n",
    "    pic_reshape = np.float32(pic_lab.reshape(-1,3))\n",
    "    \n",
    "    # cluster\n",
    "    criteria = (cv2.TERM_CRITERIA_EPS + cv2.TERM_CRITERIA_MAX_ITER, 5000, 5)\n",
    "    flags = cv2.KMEANS_PP_CENTERS\n",
    "\n",
    "    _, labels, palette = cv2.kmeans(pic_reshape, clusters, None, criteria, 30, flags)\n",
    "    _, counts = np.unique(labels, return_counts=True)\n",
    "\n",
    "    # most dominant cluster\n",
    "    biggest_cluster = palette[np.argmax(counts)]\n",
    "    \n",
    "    # reshape to 3 channels\n",
    "    biggest_cluster = np.float32(biggest_cluster.reshape(1,1,3))\n",
    "\n",
    "    # convert back to BGR\n",
    "    biggest_cluster = cv2.cvtColor(biggest_cluster, cv2.COLOR_LAB2BGR)\n",
    "    \n",
    "    # de-normalize back to bits\n",
    "    biggest_cluster *= [255,255,255]\n",
    "    #print('BIGGEST: ', biggest_cluster[0][0])\n",
    "    return np.rint(biggest_cluster[0][0])"
   ]
  },
  {
   "cell_type": "code",
   "execution_count": 23,
   "metadata": {},
   "outputs": [],
   "source": [
    "import datetime\n",
    "\n",
    "def parse_to_array(vid, n):\n",
    "    \n",
    "    k_per_frame = 5\n",
    "    \n",
    "    update_progress(0)\n",
    "    \n",
    "    cap = cv2.VideoCapture(vid)\n",
    "    fps = cap.get(cv2.CAP_PROP_FPS)\n",
    "    tot = int(cap.get(cv2.CAP_PROP_FRAME_COUNT))\n",
    "    f = 0\n",
    "    result = []\n",
    "    times = []\n",
    "    while(True):\n",
    "        grabbed, frame = cap.read()\n",
    "        if not grabbed:\n",
    "            break\n",
    "        f+=1\n",
    "        sec = float(f)/fps\n",
    "        if (f % n == 0 and f > -1):\n",
    "            s = datetime.datetime.now()\n",
    "            result.append(extract_dominant(frame, k_per_frame)[:3])\n",
    "            times.append(sec)\n",
    "            e = datetime.datetime.now()\n",
    "            t = e - s\n",
    "            #print(str(t.total_seconds() * 1000))\n",
    "            update_progress(f / tot)\n",
    "    cap.release()\n",
    "    return result, times"
   ]
  },
  {
   "cell_type": "code",
   "execution_count": 24,
   "metadata": {},
   "outputs": [],
   "source": [
    "from rgbxy import Converter\n",
    "from rgbxy import GamutC # or GamutA, GamutB, GamutC\n",
    "\n",
    "converter = Converter(GamutC)\n",
    "\n",
    "def change_color(r,g,b):\n",
    "    bri.lights[6].state(on=True, xy=converter.rgb_to_xy(r,g,b))\n",
    "    \n",
    "def light_off():\n",
    "    bri.lights[6].state(on=False)"
   ]
  },
  {
   "cell_type": "code",
   "execution_count": null,
   "metadata": {},
   "outputs": [
    {
     "name": "stdout",
     "output_type": "stream",
     "text": [
      "Progress: [###-----------------] 17.2%\n"
     ]
    }
   ],
   "source": [
    "# take video file and take every nth frame, grabbing dominant color from each\n",
    "training = parse_to_array(testfile, 46)"
   ]
  },
  {
   "cell_type": "code",
   "execution_count": null,
   "metadata": {},
   "outputs": [],
   "source": [
    "result = round_colors(training[0], unique_colors)"
   ]
  },
  {
   "cell_type": "code",
   "execution_count": null,
   "metadata": {},
   "outputs": [],
   "source": [
    "import pandas as pd\n",
    "df = pd.DataFrame({'t':np.asarray(training[1]),'r':result[:,0],'g':result[:,1],'b':result[:,2]})"
   ]
  },
  {
   "cell_type": "code",
   "execution_count": null,
   "metadata": {},
   "outputs": [],
   "source": [
    "df['helper'] = df['r'].astype(str) + \",\" + df['g'].astype(str) + \",\" + df['b'].astype(str)\n",
    "df['counter'] = df.groupby((df['helper'] != df['helper'].shift(1)).cumsum()).cumcount()+1\n",
    "df.head(5)"
   ]
  },
  {
   "cell_type": "code",
   "execution_count": null,
   "metadata": {},
   "outputs": [],
   "source": []
  },
  {
   "cell_type": "code",
   "execution_count": null,
   "metadata": {},
   "outputs": [],
   "source": []
  },
  {
   "cell_type": "code",
   "execution_count": null,
   "metadata": {},
   "outputs": [],
   "source": []
  },
  {
   "cell_type": "code",
   "execution_count": null,
   "metadata": {},
   "outputs": [],
   "source": []
  },
  {
   "cell_type": "markdown",
   "metadata": {},
   "source": [
    "### This begins the Hue interaction - play video separately"
   ]
  },
  {
   "cell_type": "code",
   "execution_count": null,
   "metadata": {},
   "outputs": [],
   "source": [
    "# loop through dataframe and show colors\n",
    "import time\n",
    "\n",
    "light_off()\n",
    "\n",
    "print(\"     in 5,...\")\n",
    "time.sleep(5)\n",
    "print(\"GO!\")\n",
    "time.sleep(1)\n",
    "\n",
    "\n",
    "start = time.time()\n",
    "i = 1\n",
    "while i < df['t'].max():\n",
    "    now = time.time()\n",
    "    diff = now - start\n",
    "    \n",
    "    row = df.iloc[(df['t'] - diff).abs().argsort()[:1]]\n",
    "    r = row[['r']].values[0][0]\n",
    "    g = row[['g']].values[0][0]\n",
    "    b = row[['b']].values[0][0]\n",
    "    \n",
    "    if i == 1:\n",
    "        newxy = converter.rgb_to_xy(r,g,b)\n",
    "        oldxy = newxy\n",
    "        change_color(r,g,b)\n",
    "    else:\n",
    "        oldxy = newxy\n",
    "        newxy = converter.rgb_to_xy(r,g,b)\n",
    "    \n",
    "    if oldxy != newxy:\n",
    "        print(\"CHANGED!  (\" + str(r) + \",\" + str(g) + \",\" + str(b) + \")\")\n",
    "        change_color(r,g,b)\n",
    "        time.sleep(2)\n",
    "        \n",
    "    i+=1\n",
    "    time.sleep(1.0 - ((time.time() - start) % 1.0))\n",
    "    \n",
    "\n",
    "light_off()"
   ]
  },
  {
   "cell_type": "code",
   "execution_count": null,
   "metadata": {},
   "outputs": [],
   "source": []
  },
  {
   "cell_type": "code",
   "execution_count": null,
   "metadata": {},
   "outputs": [],
   "source": []
  },
  {
   "cell_type": "code",
   "execution_count": null,
   "metadata": {},
   "outputs": [],
   "source": []
  },
  {
   "cell_type": "code",
   "execution_count": null,
   "metadata": {},
   "outputs": [],
   "source": []
  },
  {
   "cell_type": "code",
   "execution_count": null,
   "metadata": {},
   "outputs": [],
   "source": []
  },
  {
   "cell_type": "code",
   "execution_count": null,
   "metadata": {},
   "outputs": [],
   "source": []
  },
  {
   "cell_type": "code",
   "execution_count": null,
   "metadata": {},
   "outputs": [],
   "source": []
  },
  {
   "cell_type": "code",
   "execution_count": null,
   "metadata": {},
   "outputs": [],
   "source": []
  },
  {
   "cell_type": "code",
   "execution_count": null,
   "metadata": {},
   "outputs": [],
   "source": []
  },
  {
   "cell_type": "code",
   "execution_count": null,
   "metadata": {},
   "outputs": [],
   "source": []
  },
  {
   "cell_type": "code",
   "execution_count": null,
   "metadata": {},
   "outputs": [],
   "source": []
  },
  {
   "cell_type": "code",
   "execution_count": null,
   "metadata": {},
   "outputs": [],
   "source": []
  },
  {
   "cell_type": "code",
   "execution_count": null,
   "metadata": {},
   "outputs": [],
   "source": []
  },
  {
   "cell_type": "code",
   "execution_count": null,
   "metadata": {},
   "outputs": [],
   "source": []
  },
  {
   "cell_type": "code",
   "execution_count": null,
   "metadata": {},
   "outputs": [],
   "source": []
  }
 ],
 "metadata": {
  "kernelspec": {
   "display_name": "Python 3",
   "language": "python",
   "name": "python3"
  },
  "language_info": {
   "codemirror_mode": {
    "name": "ipython",
    "version": 3
   },
   "file_extension": ".py",
   "mimetype": "text/x-python",
   "name": "python",
   "nbconvert_exporter": "python",
   "pygments_lexer": "ipython3",
   "version": "3.6.8"
  }
 },
 "nbformat": 4,
 "nbformat_minor": 2
}
