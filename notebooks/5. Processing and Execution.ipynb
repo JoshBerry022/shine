{
 "cells": [
  {
   "cell_type": "code",
   "execution_count": 48,
   "metadata": {},
   "outputs": [],
   "source": [
    "# This is only for display purposes to monitor processing easier\n",
    "import time, sys\n",
    "from IPython.display import clear_output\n",
    "\n",
    "def update_progress(progress):\n",
    "    bar_length = 20\n",
    "    if isinstance(progress, int):\n",
    "        progress = float(progress)\n",
    "    if not isinstance(progress, float):\n",
    "        progress = 0\n",
    "    if progress < 0:\n",
    "        progress = 0\n",
    "    if progress >= 1:\n",
    "        progress = 1\n",
    "\n",
    "    block = int(round(bar_length * progress))\n",
    "\n",
    "    clear_output(wait = True)\n",
    "    text = \"Progress: [{0}] {1:.1f}%\".format( \"#\" * block + \"-\" * (bar_length - block), progress * 100)\n",
    "    print(text)"
   ]
  },
  {
   "cell_type": "markdown",
   "metadata": {},
   "source": [
    "### This begins the video pre-processing"
   ]
  },
  {
   "cell_type": "code",
   "execution_count": 49,
   "metadata": {},
   "outputs": [
    {
     "name": "stdout",
     "output_type": "stream",
     "text": [
      "TESTFILE: /Users/jberry003/Documents/Dev/Projects/shine/vid/starwars.mp4\n"
     ]
    }
   ],
   "source": [
    "import os\n",
    "\n",
    "# change this\n",
    "image_instead_of_video = False\n",
    "\n",
    "vid_file = 'starwars.mp4'\n",
    "img_file = 'lego.png'\n",
    "\n",
    "unique_colors = 32\n",
    "\n",
    "\n",
    "#dont need to change these\n",
    "repo_path = os.path.dirname(os.getcwd())\n",
    "vid_path = '/vid/'\n",
    "img_path = '/img/'\n",
    "\n",
    "if image_instead_of_video == True:\n",
    "    testfile = repo_path + img_path + img_file\n",
    "else:\n",
    "    testfile = repo_path + vid_path + vid_file\n",
    "\n",
    "print(\"TESTFILE: \" + testfile)\n"
   ]
  },
  {
   "cell_type": "code",
   "execution_count": 50,
   "metadata": {},
   "outputs": [],
   "source": [
    "def round_colors(m, diff_colors):\n",
    "    m = np.float32(m)\n",
    "    criteria = (cv2.TERM_CRITERIA_EPS + cv2.TERM_CRITERIA_MAX_ITER, 500, 1)\n",
    "    ret, label, center = cv2.kmeans(m, diff_colors, None, criteria, 30, cv2.KMEANS_PP_CENTERS)\n",
    "    center = np.uint8(center)\n",
    "    return center[label.flatten()]"
   ]
  },
  {
   "cell_type": "code",
   "execution_count": 51,
   "metadata": {},
   "outputs": [],
   "source": [
    "import cv2\n",
    "import numpy as np\n",
    "\n",
    "def extract_dominant(pic_in, clusters):\n",
    "    \n",
    "    # normalize array to 0-1 instead of 0-255\n",
    "    pic_norm = np.array(pic_in).astype('float32')/255\n",
    "    \n",
    "    # convert to LAB\n",
    "    pic_lab = cv2.cvtColor(pic_norm, cv2.COLOR_BGR2LAB)\n",
    "    \n",
    "    # reshape - make it long and 2D\n",
    "    pic_reshape = np.float32(pic_lab.reshape(-1,3))\n",
    "    \n",
    "    # cluster\n",
    "    criteria = (cv2.TERM_CRITERIA_EPS + cv2.TERM_CRITERIA_MAX_ITER, 5000, 5)\n",
    "    flags = cv2.KMEANS_PP_CENTERS\n",
    "\n",
    "    _, labels, palette = cv2.kmeans(pic_reshape, clusters, None, criteria, 30, flags)\n",
    "    _, counts = np.unique(labels, return_counts=True)\n",
    "\n",
    "    # most dominant cluster\n",
    "    biggest_cluster = palette[np.argmax(counts)]\n",
    "    \n",
    "    # reshape to 3 channels\n",
    "    biggest_cluster = np.float32(biggest_cluster.reshape(1,1,3))\n",
    "\n",
    "    # convert back to BGR\n",
    "    biggest_cluster = cv2.cvtColor(biggest_cluster, cv2.COLOR_LAB2BGR)\n",
    "    \n",
    "    # de-normalize back to bits\n",
    "    biggest_cluster *= [255,255,255]\n",
    "    #print('BIGGEST: ', biggest_cluster[0][0])\n",
    "    return np.rint(biggest_cluster[0][0])"
   ]
  },
  {
   "cell_type": "code",
   "execution_count": 53,
   "metadata": {},
   "outputs": [],
   "source": [
    "import datetime\n",
    "\n",
    "def parse_to_array(vid, n):\n",
    "    \n",
    "    k_per_frame = 3\n",
    "    \n",
    "    update_progress(0)\n",
    "    \n",
    "    cap = cv2.VideoCapture(vid)\n",
    "    fps = cap.get(cv2.CAP_PROP_FPS)\n",
    "    tot = int(cap.get(cv2.CAP_PROP_FRAME_COUNT))\n",
    "    f = 0\n",
    "    result = []\n",
    "    times = []\n",
    "    while(True):\n",
    "        grabbed, frame = cap.read()\n",
    "        if not grabbed:\n",
    "            break\n",
    "        f+=1\n",
    "        sec = float(f)/fps\n",
    "        if (f % n == 0 and f > -1):\n",
    "            s = datetime.datetime.now()\n",
    "            result.append(extract_dominant(frame, k_per_frame)[:3])\n",
    "            times.append(sec)\n",
    "            e = datetime.datetime.now()\n",
    "            t = e - s\n",
    "            #print(str(t.total_seconds() * 1000))\n",
    "            update_progress(f / tot)\n",
    "    cap.release()\n",
    "    return result, times"
   ]
  },
  {
   "cell_type": "code",
   "execution_count": null,
   "metadata": {},
   "outputs": [],
   "source": []
  },
  {
   "cell_type": "code",
   "execution_count": null,
   "metadata": {},
   "outputs": [
    {
     "name": "stdout",
     "output_type": "stream",
     "text": [
      "Progress: [###-----------------] 13.0%\n"
     ]
    }
   ],
   "source": [
    "# take video file and take every nth frame, grabbing dominant color from each\n",
    "training = parse_to_array(testfile, 5)"
   ]
  },
  {
   "cell_type": "code",
   "execution_count": 27,
   "metadata": {},
   "outputs": [],
   "source": [
    "result = round_colors(training[0], unique_colors)"
   ]
  },
  {
   "cell_type": "code",
   "execution_count": 35,
   "metadata": {},
   "outputs": [],
   "source": [
    "import pandas as pd\n",
    "df = pd.DataFrame({'t':np.asarray(training[1]),'b':result[:,0],'g':result[:,1],'r':result[:,2]})"
   ]
  },
  {
   "cell_type": "code",
   "execution_count": 36,
   "metadata": {},
   "outputs": [
    {
     "data": {
      "text/html": [
       "<div>\n",
       "<style scoped>\n",
       "    .dataframe tbody tr th:only-of-type {\n",
       "        vertical-align: middle;\n",
       "    }\n",
       "\n",
       "    .dataframe tbody tr th {\n",
       "        vertical-align: top;\n",
       "    }\n",
       "\n",
       "    .dataframe thead th {\n",
       "        text-align: right;\n",
       "    }\n",
       "</style>\n",
       "<table border=\"1\" class=\"dataframe\">\n",
       "  <thead>\n",
       "    <tr style=\"text-align: right;\">\n",
       "      <th></th>\n",
       "      <th>t</th>\n",
       "      <th>b</th>\n",
       "      <th>g</th>\n",
       "      <th>r</th>\n",
       "      <th>helper</th>\n",
       "      <th>counter</th>\n",
       "    </tr>\n",
       "  </thead>\n",
       "  <tbody>\n",
       "    <tr>\n",
       "      <th>0</th>\n",
       "      <td>1.84</td>\n",
       "      <td>67</td>\n",
       "      <td>60</td>\n",
       "      <td>52</td>\n",
       "      <td>52,60,67</td>\n",
       "      <td>1</td>\n",
       "    </tr>\n",
       "    <tr>\n",
       "      <th>1</th>\n",
       "      <td>3.68</td>\n",
       "      <td>67</td>\n",
       "      <td>60</td>\n",
       "      <td>52</td>\n",
       "      <td>52,60,67</td>\n",
       "      <td>2</td>\n",
       "    </tr>\n",
       "    <tr>\n",
       "      <th>2</th>\n",
       "      <td>5.52</td>\n",
       "      <td>67</td>\n",
       "      <td>60</td>\n",
       "      <td>52</td>\n",
       "      <td>52,60,67</td>\n",
       "      <td>3</td>\n",
       "    </tr>\n",
       "    <tr>\n",
       "      <th>3</th>\n",
       "      <td>7.36</td>\n",
       "      <td>97</td>\n",
       "      <td>86</td>\n",
       "      <td>81</td>\n",
       "      <td>81,86,97</td>\n",
       "      <td>1</td>\n",
       "    </tr>\n",
       "    <tr>\n",
       "      <th>4</th>\n",
       "      <td>9.20</td>\n",
       "      <td>215</td>\n",
       "      <td>174</td>\n",
       "      <td>150</td>\n",
       "      <td>150,174,215</td>\n",
       "      <td>1</td>\n",
       "    </tr>\n",
       "  </tbody>\n",
       "</table>\n",
       "</div>"
      ],
      "text/plain": [
       "      t    b    g    r       helper  counter\n",
       "0  1.84   67   60   52     52,60,67        1\n",
       "1  3.68   67   60   52     52,60,67        2\n",
       "2  5.52   67   60   52     52,60,67        3\n",
       "3  7.36   97   86   81     81,86,97        1\n",
       "4  9.20  215  174  150  150,174,215        1"
      ]
     },
     "execution_count": 36,
     "metadata": {},
     "output_type": "execute_result"
    }
   ],
   "source": [
    "df['helper'] = df['r'].astype(str) + \",\" + df['g'].astype(str) + \",\" + df['b'].astype(str)\n",
    "df['counter'] = df.groupby((df['helper'] != df['helper'].shift(1)).cumsum()).cumcount()+1\n",
    "df.head(5)"
   ]
  },
  {
   "cell_type": "code",
   "execution_count": 41,
   "metadata": {},
   "outputs": [
    {
     "data": {
      "text/plain": [
       "169.28"
      ]
     },
     "execution_count": 41,
     "metadata": {},
     "output_type": "execute_result"
    }
   ],
   "source": [
    "df['t'].max()"
   ]
  },
  {
   "cell_type": "code",
   "execution_count": null,
   "metadata": {},
   "outputs": [],
   "source": []
  },
  {
   "cell_type": "code",
   "execution_count": null,
   "metadata": {},
   "outputs": [],
   "source": []
  },
  {
   "cell_type": "code",
   "execution_count": null,
   "metadata": {},
   "outputs": [],
   "source": []
  },
  {
   "cell_type": "markdown",
   "metadata": {},
   "source": [
    "### This begins the Hue interaction - play video separately"
   ]
  },
  {
   "cell_type": "code",
   "execution_count": 37,
   "metadata": {},
   "outputs": [],
   "source": [
    "# fyi the debug link is here: https://192.168.1.9/debug/clip.html\n",
    "hue_ip = '192.168.1.9'\n",
    "hue_user = '082Gdixhk1IWMX78CpodeFxBWSLbeEmO7PjpFFKy'"
   ]
  },
  {
   "cell_type": "code",
   "execution_count": 38,
   "metadata": {},
   "outputs": [],
   "source": [
    "# Connect to the bridge with a particular username\n",
    "from qhue import Bridge\n",
    "bri = Bridge(hue_ip, hue_user)\n",
    "lights = bri.lights "
   ]
  },
  {
   "cell_type": "code",
   "execution_count": 39,
   "metadata": {},
   "outputs": [],
   "source": [
    "from rgbxy import Converter\n",
    "from rgbxy import GamutC # or GamutA, GamutB, GamutC\n",
    "\n",
    "converter = Converter(GamutC)\n",
    "\n",
    "def change_color(r,g,b):\n",
    "    bri.lights[6].state(on=True, xy=converter.rgb_to_xy(r,g,b))\n",
    "    \n",
    "def light_off():\n",
    "    bri.lights[6].state(on=False)"
   ]
  },
  {
   "cell_type": "code",
   "execution_count": 46,
   "metadata": {},
   "outputs": [
    {
     "name": "stdout",
     "output_type": "stream",
     "text": [
      "     in 5,...\n",
      "GO!\n",
      "CHANGED!  (81,86,97)\n",
      "CHANGED!  (150,174,215)\n",
      "CHANGED!  (154,204,243)\n",
      "CHANGED!  (33,55,51)\n",
      "CHANGED!  (52,60,67)\n",
      "CHANGED!  (160,188,219)\n",
      "CHANGED!  (36,34,33)\n",
      "CHANGED!  (52,60,67)\n",
      "CHANGED!  (83,102,71)\n",
      "CHANGED!  (97,112,75)\n",
      "CHANGED!  (154,204,243)\n",
      "CHANGED!  (160,188,219)\n",
      "CHANGED!  (154,204,243)\n",
      "CHANGED!  (36,34,33)\n",
      "CHANGED!  (97,140,69)\n",
      "CHANGED!  (231,212,204)\n",
      "CHANGED!  (178,193,74)\n",
      "CHANGED!  (210,207,210)\n",
      "CHANGED!  (80,76,61)\n",
      "CHANGED!  (99,88,75)\n",
      "CHANGED!  (112,108,107)\n",
      "CHANGED!  (107,95,85)\n",
      "CHANGED!  (99,88,75)\n",
      "CHANGED!  (107,95,85)\n",
      "CHANGED!  (99,88,75)\n",
      "CHANGED!  (140,128,117)\n",
      "CHANGED!  (119,103,87)\n",
      "CHANGED!  (89,103,31)\n",
      "CHANGED!  (118,140,56)\n",
      "CHANGED!  (99,88,75)\n",
      "CHANGED!  (235,210,195)\n",
      "CHANGED!  (118,140,56)\n",
      "CHANGED!  (97,79,69)\n",
      "CHANGED!  (135,110,92)\n",
      "CHANGED!  (246,228,207)\n",
      "CHANGED!  (97,79,69)\n",
      "CHANGED!  (246,228,207)\n",
      "CHANGED!  (118,140,56)\n",
      "CHANGED!  (238,209,184)\n",
      "CHANGED!  (118,140,56)\n",
      "CHANGED!  (143,119,100)\n",
      "CHANGED!  (154,187,233)\n",
      "CHANGED!  (246,228,207)\n",
      "CHANGED!  (154,187,233)\n",
      "CHANGED!  (243,217,200)\n",
      "CHANGED!  (254,253,251)\n",
      "CHANGED!  (243,217,200)\n",
      "CHANGED!  (119,103,87)\n",
      "CHANGED!  (112,86,67)\n",
      "CHANGED!  (107,95,85)\n",
      "CHANGED!  (246,228,207)\n",
      "CHANGED!  (97,79,69)\n",
      "CHANGED!  (107,95,85)\n",
      "CHANGED!  (98,124,57)\n",
      "CHANGED!  (119,103,87)\n",
      "CHANGED!  (135,110,92)\n"
     ]
    }
   ],
   "source": [
    "# loop through dataframe and show colors\n",
    "import time\n",
    "import datetime\n",
    "\n",
    "light_off()\n",
    "\n",
    "print(\"     in 5,...\")\n",
    "time.sleep(5)\n",
    "print(\"GO!\")\n",
    "time.sleep(1)\n",
    "\n",
    "i = 1\n",
    "diff = 0\n",
    "\n",
    "start = datetime.datetime.now()\n",
    "\n",
    "while diff < df['t'].max():\n",
    "\n",
    "    diff = (datetime.datetime.now() - start).total_seconds()\n",
    "    row = df.iloc[(df['t'] - diff).abs().argsort()[:1]]\n",
    "    r = row[['r']].values[0][0]\n",
    "    g = row[['g']].values[0][0]\n",
    "    b = row[['b']].values[0][0]\n",
    "    \n",
    "    if i == 1:\n",
    "        newxy = converter.rgb_to_xy(r,g,b)\n",
    "        oldxy = newxy\n",
    "        change_color(r,g,b)\n",
    "    else:\n",
    "        oldxy = newxy\n",
    "        newxy = converter.rgb_to_xy(r,g,b)\n",
    "    \n",
    "    if oldxy != newxy:\n",
    "        print(\"CHANGED!  (\" + str(r) + \",\" + str(g) + \",\" + str(b) + \")\")\n",
    "        change_color(r,g,b)\n",
    "        time.sleep(1)\n",
    "        \n",
    "    i+=1\n",
    "    \n",
    "\n",
    "light_off()"
   ]
  },
  {
   "cell_type": "code",
   "execution_count": null,
   "metadata": {},
   "outputs": [],
   "source": []
  },
  {
   "cell_type": "code",
   "execution_count": null,
   "metadata": {},
   "outputs": [],
   "source": []
  },
  {
   "cell_type": "code",
   "execution_count": null,
   "metadata": {},
   "outputs": [],
   "source": []
  },
  {
   "cell_type": "code",
   "execution_count": null,
   "metadata": {},
   "outputs": [],
   "source": []
  },
  {
   "cell_type": "code",
   "execution_count": null,
   "metadata": {},
   "outputs": [],
   "source": []
  },
  {
   "cell_type": "code",
   "execution_count": null,
   "metadata": {},
   "outputs": [],
   "source": []
  },
  {
   "cell_type": "code",
   "execution_count": null,
   "metadata": {},
   "outputs": [],
   "source": []
  },
  {
   "cell_type": "code",
   "execution_count": null,
   "metadata": {},
   "outputs": [],
   "source": []
  },
  {
   "cell_type": "code",
   "execution_count": null,
   "metadata": {},
   "outputs": [],
   "source": []
  },
  {
   "cell_type": "code",
   "execution_count": null,
   "metadata": {},
   "outputs": [],
   "source": []
  },
  {
   "cell_type": "code",
   "execution_count": null,
   "metadata": {},
   "outputs": [],
   "source": []
  },
  {
   "cell_type": "code",
   "execution_count": null,
   "metadata": {},
   "outputs": [],
   "source": []
  },
  {
   "cell_type": "code",
   "execution_count": null,
   "metadata": {},
   "outputs": [],
   "source": []
  },
  {
   "cell_type": "code",
   "execution_count": null,
   "metadata": {},
   "outputs": [],
   "source": []
  },
  {
   "cell_type": "code",
   "execution_count": null,
   "metadata": {},
   "outputs": [],
   "source": []
  }
 ],
 "metadata": {
  "kernelspec": {
   "display_name": "Python 3",
   "language": "python",
   "name": "python3"
  },
  "language_info": {
   "codemirror_mode": {
    "name": "ipython",
    "version": 3
   },
   "file_extension": ".py",
   "mimetype": "text/x-python",
   "name": "python",
   "nbconvert_exporter": "python",
   "pygments_lexer": "ipython3",
   "version": "3.6.8"
  }
 },
 "nbformat": 4,
 "nbformat_minor": 2
}
