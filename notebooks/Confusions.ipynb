{
 "cells": [
  {
   "cell_type": "code",
   "execution_count": 47,
   "metadata": {},
   "outputs": [],
   "source": [
    "import os\n",
    "from skimage import io\n",
    "import cv2\n",
    "from matplotlib import image as img\n",
    "from PIL import Image"
   ]
  },
  {
   "cell_type": "code",
   "execution_count": 48,
   "metadata": {},
   "outputs": [],
   "source": [
    "pic_file = 'lego.png'\n",
    "\n",
    "#dont need to change these\n",
    "repo_path = os.path.dirname(os.getcwd())\n",
    "img_path = repo_path + '/img/'\n",
    "testfile = img_path + pic_file"
   ]
  },
  {
   "cell_type": "code",
   "execution_count": 51,
   "metadata": {},
   "outputs": [],
   "source": [
    "img_skimage = io.imread(testfile)\n",
    "img_cv2_0 = cv2.imread(testfile,0)\n",
    "img_cv2_1 = cv2.imread(testfile,1)\n",
    "img_mpl = img.imread(testfile)\n",
    "img_pil = Image.open(testfile)"
   ]
  },
  {
   "cell_type": "code",
   "execution_count": 54,
   "metadata": {},
   "outputs": [
    {
     "name": "stdout",
     "output_type": "stream",
     "text": [
      "(238, 363, 4)\n",
      "(238, 363)\n",
      "(238, 363, 4)\n"
     ]
    }
   ],
   "source": [
    "try:\n",
    "    print(img_skimage.shape)\n",
    "    print(img_cv2.shape)\n",
    "    print(img_mpl.shape)\n",
    "    print(img_pil.shape)\n",
    "    \n",
    "    \n",
    "    \n",
    "    \n",
    "    \n",
    "except Exception as e:\n",
    "    pass"
   ]
  },
  {
   "cell_type": "code",
   "execution_count": null,
   "metadata": {},
   "outputs": [],
   "source": []
  },
  {
   "cell_type": "code",
   "execution_count": null,
   "metadata": {},
   "outputs": [],
   "source": []
  },
  {
   "cell_type": "code",
   "execution_count": null,
   "metadata": {},
   "outputs": [],
   "source": []
  }
 ],
 "metadata": {
  "kernelspec": {
   "display_name": "Python 3",
   "language": "python",
   "name": "python3"
  },
  "language_info": {
   "codemirror_mode": {
    "name": "ipython",
    "version": 3
   },
   "file_extension": ".py",
   "mimetype": "text/x-python",
   "name": "python",
   "nbconvert_exporter": "python",
   "pygments_lexer": "ipython3",
   "version": "3.6.8"
  }
 },
 "nbformat": 4,
 "nbformat_minor": 2
}
