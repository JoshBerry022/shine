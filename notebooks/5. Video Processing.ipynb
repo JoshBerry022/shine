{
 "cells": [
  {
   "cell_type": "code",
   "execution_count": 3,
   "metadata": {},
   "outputs": [],
   "source": [
    "import os\n",
    "\n",
    "# change this\n",
    "vid_file = 'starwars.mp4'\n",
    "\n",
    "#dont need to change these\n",
    "repo_path = os.path.dirname(os.getcwd())\n",
    "vid_path = '/vid'\n",
    "testfile = repo_path + vid_path + '/' + vid_file"
   ]
  },
  {
   "cell_type": "code",
   "execution_count": 10,
   "metadata": {},
   "outputs": [],
   "source": [
    "import cv2\n",
    "import numpy as np\n",
    "\n",
    "def extract_dominant(pic_in, clusters):\n",
    "    \n",
    "    # normalize array to 0-1 instead of 0-255\n",
    "    pic_norm = np.array(pic_in).astype('float32')/255\n",
    "    \n",
    "    # convert to LAB\n",
    "    pic_lab = cv2.cvtColor(pic_norm, cv2.COLOR_BGR2LAB)\n",
    "    \n",
    "    # reshape - make it long and 2D\n",
    "    pic_reshape = np.float32(pic_lab.reshape(-1,3))\n",
    "    \n",
    "    # cluster\n",
    "    criteria = (cv2.TERM_CRITERIA_EPS + cv2.TERM_CRITERIA_MAX_ITER, 5000, 5)\n",
    "    flags = cv2.KMEANS_PP_CENTERS\n",
    "\n",
    "    _, labels, palette = cv2.kmeans(pic_reshape, clusters, None, criteria, 30, flags)\n",
    "    _, counts = np.unique(labels, return_counts=True)\n",
    "\n",
    "    # most dominant cluster\n",
    "    biggest_cluster = palette[np.argmax(counts)]\n",
    "    \n",
    "    # reshape to 3 channels\n",
    "    biggest_cluster = np.float32(biggest_cluster.reshape(1,1,3))\n",
    "\n",
    "    # convert back to BGR\n",
    "    biggest_cluster = cv2.cvtColor(biggest_cluster, cv2.COLOR_LAB2BGR)\n",
    "    \n",
    "    # de-normalize back to bits\n",
    "    biggest_cluster *= [255,255,255]\n",
    "    \n",
    "    return np.rint(biggest_cluster)"
   ]
  },
  {
   "cell_type": "code",
   "execution_count": 11,
   "metadata": {},
   "outputs": [],
   "source": [
    "def parse_to_array(vid, n):\n",
    "    cap = cv2.VideoCapture(vid)\n",
    "    fps = cap.get(cv2.CAP_PROP_FPS)\n",
    "    f = 0\n",
    "    result = []\n",
    "    times = []\n",
    "    while(True):\n",
    "        grabbed, frame = cap.read()\n",
    "        if not grabbed:\n",
    "            break\n",
    "        f+=1\n",
    "        sec = float(f)/fps\n",
    "        if f % n == 0:\n",
    "            result.append(extract_dominant(frame, 8)[:3])\n",
    "            times.append(sec)\n",
    "    cap.release()\n",
    "    return result, times"
   ]
  },
  {
   "cell_type": "code",
   "execution_count": null,
   "metadata": {},
   "outputs": [],
   "source": [
    "# take video file and take every nth frame, grabbing dominant color from each\n",
    "training = parse_to_array(testfile, 23)"
   ]
  },
  {
   "cell_type": "code",
   "execution_count": null,
   "metadata": {},
   "outputs": [],
   "source": [
    "training[0]"
   ]
  },
  {
   "cell_type": "code",
   "execution_count": null,
   "metadata": {},
   "outputs": [],
   "source": []
  },
  {
   "cell_type": "code",
   "execution_count": null,
   "metadata": {},
   "outputs": [],
   "source": []
  },
  {
   "cell_type": "code",
   "execution_count": null,
   "metadata": {},
   "outputs": [],
   "source": []
  }
 ],
 "metadata": {
  "kernelspec": {
   "display_name": "Python 3",
   "language": "python",
   "name": "python3"
  },
  "language_info": {
   "codemirror_mode": {
    "name": "ipython",
    "version": 3
   },
   "file_extension": ".py",
   "mimetype": "text/x-python",
   "name": "python",
   "nbconvert_exporter": "python",
   "pygments_lexer": "ipython3",
   "version": "3.6.8"
  }
 },
 "nbformat": 4,
 "nbformat_minor": 2
}
